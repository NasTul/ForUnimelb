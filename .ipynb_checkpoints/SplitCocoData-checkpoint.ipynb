{
 "cells": [
  {
   "cell_type": "code",
   "execution_count": null,
   "id": "197d504a",
   "metadata": {},
   "outputs": [],
   "source": [
    "dataset = foz.load_zoo_dataset(\n",
    "    \"coco-2017\",\n",
    "    split=\"validation\",\n",
    "    dataset_name=\"evaluate-detections-tutorial\",\n",
    ")"
   ]
  },
  {
   "cell_type": "code",
   "execution_count": null,
   "id": "ef92f03a",
   "metadata": {},
   "outputs": [],
   "source": [
    "# Export some labels in COCO format\n",
    "dataset.take(5).export(\n",
    "    dataset_type=fo.types.COCODetectionDataset,\n",
    "    label_field=\"ground_truth\",\n",
    "    labels_path=\"F:/CV/dataset/coco.json\",\n",
    ")"
   ]
  },
  {
   "cell_type": "code",
   "execution_count": null,
   "id": "23d77946",
   "metadata": {},
   "outputs": [],
   "source": [
    "# Export some labels in COCO format\n",
    "dataset.take(50).export(\n",
    "    dataset_type=fo.types.COCODetectionDataset,\n",
    "    label_field=\"ground_truth\",\n",
    "    labels_path=\"F:/CV/dataset/coco.json\",\n",
    ")"
   ]
  },
  {
   "cell_type": "code",
   "execution_count": null,
   "id": "bc8452cb",
   "metadata": {},
   "outputs": [],
   "source": [
    "import json\n",
    "with open('F:/CV/coco.json') as f:\n",
    "    data = json.load(f)"
   ]
  },
  {
   "cell_type": "code",
   "execution_count": null,
   "id": "99a3358e",
   "metadata": {},
   "outputs": [],
   "source": [
    "for i in data['images']:\n",
    "    file_name = 'D:/val2017/'+ i['file_name']\n",
    "    target_name = 'F:/CV/dataset/images/'+ i['file_name']\n",
    "    !cp '{file_name}' '{target_name}'"
   ]
  }
 ],
 "metadata": {
  "kernelspec": {
   "display_name": "Python 3 (ipykernel)",
   "language": "python",
   "name": "python3"
  },
  "language_info": {
   "codemirror_mode": {
    "name": "ipython",
    "version": 3
   },
   "file_extension": ".py",
   "mimetype": "text/x-python",
   "name": "python",
   "nbconvert_exporter": "python",
   "pygments_lexer": "ipython3",
   "version": "3.7.11"
  }
 },
 "nbformat": 4,
 "nbformat_minor": 5
}
